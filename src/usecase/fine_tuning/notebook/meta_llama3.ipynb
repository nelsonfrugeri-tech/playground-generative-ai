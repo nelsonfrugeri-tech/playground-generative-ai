{
  "cells": [
    {
      "cell_type": "code",
      "execution_count": null,
      "metadata": {
        "id": "BbgXkHPIkIKt"
      },
      "outputs": [],
      "source": [
        "!pip install accelerate"
      ]
    },
    {
      "cell_type": "code",
      "execution_count": 5,
      "metadata": {
        "id": "yQVhIQs6lXKm"
      },
      "outputs": [],
      "source": [
        "import os\n",
        "\n",
        "\n",
        "os.environ[\"HF_TOKEN\"] = 'token_goes_here'"
      ]
    },
    {
      "cell_type": "code",
      "execution_count": null,
      "metadata": {
        "id": "B31-V6xQ5OvU"
      },
      "outputs": [],
      "source": [
        "from transformers import AutoTokenizer, AutoModelForCausalLM\n",
        "import torch\n",
        "\n",
        "\n",
        "model_id = \"meta-llama/Meta-Llama-3-8B-Instruct\"\n",
        "device = \"cuda\" if torch.cuda.is_available() else \"cpu\"\n",
        "\n",
        "tokenizer = AutoTokenizer.from_pretrained(model_id)\n",
        "model = AutoModelForCausalLM.from_pretrained(\n",
        "    model_id,\n",
        "    torch_dtype=torch.bfloat16,\n",
        ")\n",
        "\n",
        "model.to(device)\n",
        "\n",
        "print(model.device)"
      ]
    },
    {
      "cell_type": "code",
      "execution_count": null,
      "metadata": {
        "id": "aHw62GmvAmAE"
      },
      "outputs": [],
      "source": [
        "messages = [\n",
        "    {\"role\": \"system\", \"content\": \"Você é um especialista em Matemática.\"},\n",
        "    {\"role\": \"user\", \"content\": \"\"\"Iniciamos nossa jornada com uma visão abrangente da teoria dos números, começando com os conceitos básicos de números primos e suas propriedades. Examinamos a importância do Teorema Fundamental da Aritmética e exploramos como ele garante a fatoração única em primos, essencial para o desenvolvimento subsequente de algoritmos criptográficos.\n",
        "Avançamos para a análise combinatória, discutindo as fórmulas de combinação e permutação e suas aplicações em problemas de contagem e probabilidade. Demonstramos como esses princípios são utilizados para resolver problemas complexos de contagem em cenários de torneios e na teoria dos grafos.\n",
        "Um dos aspectos mais fascinantes é a aplicação desses conceitos em sistemas criptográficos, como o RSA, que depende profundamente do entendimento de primos e de sua inacessibilidade através de métodos de fatoração tradicionais. Exploramos também a aplicação de técnicas de combinação em algoritmos de criptografia para criar chaves mais robustas.\n",
        "Agora, consideremos um problema específico que envolve a aplicação combinada de teoria dos números e análise combinatória:\n",
        "Problema: Dada uma sequência complexa de operações envolvendo números primos e arranjos, onde cada número primo abaixo de 100 deve ser combinado com outros para formar estruturas de dados únicas que seguem regras específicas de formação, determine quantas estruturas distintas podem ser formadas. Essas estruturas devem ser capazes de se rearranjar para formar novas configurações sem repetir as combinações iniciais. Considere a implicação da mudança de um único elemento na configuração geral.\n",
        "Este problema não apenas testa sua compreensão dos conceitos matemáticos, mas também sua habilidade em aplicar esses conceitos em cenários altamente complexos e interconectados. Qual seria sua abordagem para começar a resolver esse problema?\"\"\"},\n",
        "]\n",
        "\n",
        "input_ids = tokenizer.apply_chat_template(\n",
        "    messages,\n",
        "    add_generation_prompt=True,\n",
        "    return_tensors=\"pt\",\n",
        ").to(model.device)\n",
        "\n",
        "terminators = [\n",
        "    tokenizer.eos_token_id,\n",
        "    tokenizer.convert_tokens_to_ids(\"<|eot_id|>\")\n",
        "]\n",
        "\n",
        "outputs = model.generate(\n",
        "    input_ids,\n",
        "    max_new_tokens=4096,\n",
        "    eos_token_id=terminators,\n",
        "    do_sample=True,\n",
        "    temperature=0.2,\n",
        "    top_p=0.9,\n",
        ")\n",
        "response = outputs[0][input_ids.shape[-1]:]\n",
        "print(tokenizer.decode(response, skip_special_tokens=True))"
      ]
    },
    {
      "cell_type": "code",
      "execution_count": null,
      "metadata": {
        "id": "QyCOZBNOlTjS"
      },
      "outputs": [],
      "source": [
        "!nvidia-smi"
      ]
    }
  ],
  "metadata": {
    "accelerator": "GPU",
    "colab": {
      "gpuType": "L4",
      "machine_shape": "hm",
      "provenance": []
    },
    "kernelspec": {
      "display_name": "Python 3",
      "name": "python3"
    },
    "language_info": {
      "name": "python"
    }
  },
  "nbformat": 4,
  "nbformat_minor": 0
}
