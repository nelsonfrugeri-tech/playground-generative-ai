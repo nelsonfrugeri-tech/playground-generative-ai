{
  "cells": [
    {
      "cell_type": "raw",
      "metadata": {
        "vscode": {
          "languageId": "raw"
        }
      },
      "source": [
        "# 🎯 Logits Masking - Controlando a Geração de Texto\n",
        "\n",
        "Este notebook demonstra como usar **Logits Masking** para controlar a geração de texto em modelos de linguagem.\n",
        "\n",
        "## 🤔 O que é Logits Masking?\n",
        "\n",
        "**Logits** são as probabilidades brutas que o modelo calcula para cada token (palavra) antes de escolher qual palavra gerar próxima.\n",
        "\n",
        "**Masking** significa \"mascarar\" ou modificar essas probabilidades para:\n",
        "- ❌ **Bloquear** palavras indesejadas (probabilidade = 0)\n",
        "- ✅ **Incentivar** palavras específicas (aumentar probabilidade)\n",
        "- 🎛️ **Controlar** o comportamento do modelo\n",
        "\n",
        "## 📋 Dependências Necessárias\n",
        "\n",
        "Antes de começar, vamos instalar as bibliotecas necessárias:\n"
      ]
    },
    {
      "cell_type": "code",
      "execution_count": null,
      "metadata": {},
      "outputs": [],
      "source": [
        "# Instalação das dependências\n",
        "!pip install torch>=2.0.0 transformers>=4.30.0 huggingface_hub>=0.15.0 numpy>=1.21.0 accelerate>=0.20.0\n"
      ]
    },
    {
      "cell_type": "raw",
      "metadata": {
        "vscode": {
          "languageId": "raw"
        }
      },
      "source": [
        "## 🔐 Autenticação no Hugging Face\n",
        "\n",
        "Para usar modelos do Hugging Face, precisamos fazer login com nossa conta.\n",
        "\n",
        "**Por que isso é necessário?**\n",
        "- Alguns modelos requerem aceitar termos de uso\n",
        "- Permite acesso a modelos privados/restritos  \n",
        "- Evita limites de download\n",
        "\n",
        "**Como obter token:**\n",
        "1. Crie conta em [huggingface.co](https://huggingface.co)\n",
        "2. Vá em Settings → Access Tokens\n",
        "3. Crie um novo token\n"
      ]
    },
    {
      "cell_type": "code",
      "execution_count": null,
      "metadata": {},
      "outputs": [],
      "source": [
        "# Login no Hugging Face - Cole seu token quando solicitado\n",
        "from huggingface_hub import login\n",
        "login(new_session=False)\n"
      ]
    },
    {
      "cell_type": "raw",
      "metadata": {
        "vscode": {
          "languageId": "raw"
        }
      },
      "source": [
        "## 🎮 Verificação de GPU\n",
        "\n",
        "Vamos verificar se temos uma GPU disponível para acelerar o processamento.\n",
        "\n",
        "**Por que GPU é importante?**\n",
        "- Modelos de linguagem são computacionalmente pesados\n",
        "- GPU acelera o processamento em 10-100x comparado à CPU\n",
        "- Permite usar modelos maiores e mais poderosos\n",
        "\n",
        "**O que esperamos ver:**\n",
        "- ✅ `True` = GPU disponível\n",
        "- ❌ `False` = Apenas CPU (ainda funciona, mas mais lento)\n"
      ]
    },
    {
      "cell_type": "code",
      "execution_count": null,
      "metadata": {},
      "outputs": [],
      "source": [
        "# Verificação de GPU disponível\n",
        "import torch\n",
        "\n",
        "print(\"🔍 Verificando hardware disponível...\")\n",
        "print(f\"GPU disponível: {torch.cuda.is_available()}\")\n",
        "\n",
        "if torch.cuda.is_available():\n",
        "    print(f\"🎮 Nome da GPU: {torch.cuda.get_device_name(0)}\")\n",
        "    print(f\"💾 Memória GPU: {torch.cuda.get_device_properties(0).total_memory / 1e9:.1f} GB\")\n",
        "else:\n",
        "    print(\"⚠️  Executando em CPU - processo será mais lento\")\n"
      ]
    },
    {
      "cell_type": "raw",
      "metadata": {
        "vscode": {
          "languageId": "raw"
        }
      },
      "source": [
        "## 🤖 Seleção do Modelo\n",
        "\n",
        "Vamos usar o **Gemma-3-4B-PT**, um modelo de linguagem do Google.\n",
        "\n",
        "**Por que este modelo?**\n",
        "- 🇧🇷 **Português nativo** - Treinado especificamente em português\n",
        "- ⚡ **Tamanho médio** - 4B parâmetros (equilibrio entre qualidade e velocidade)\n",
        "- 🆓 **Gratuito** - Disponível para uso sem restrições\n",
        "- 🎯 **Conversacional** - Bom para diálogos e atendimento\n",
        "\n",
        "**Outros modelos que poderiam ser usados:**\n",
        "- `meta-llama/Llama-2-7b-chat-hf` (inglês)\n",
        "- `microsoft/DialoGPT-medium` (inglês)\n",
        "- `neuralmind/bert-base-portuguese-cased` (português, menor)\n"
      ]
    },
    {
      "cell_type": "code",
      "execution_count": null,
      "metadata": {},
      "outputs": [],
      "source": [
        "# Definindo o modelo que vamos usar\n",
        "MODEL_ID = \"google/gemma-3-4b-pt\"\n",
        "print(f\"📋 Modelo selecionado: {MODEL_ID}\")\n"
      ]
    },
    {
      "cell_type": "raw",
      "metadata": {
        "vscode": {
          "languageId": "raw"
        }
      },
      "source": [
        "## 📚 Importações e Preparação\n",
        "\n",
        "Agora vamos importar todas as bibliotecas necessárias para implementar o Logits Masking.\n",
        "\n",
        "**O que cada biblioteca faz:**\n",
        "- 🧠 **transformers** - Contém os modelos de linguagem e ferramentas\n",
        "- 🔧 **LogitsProcessor** - Classe base para processar logits (nosso ponto de entrada)\n",
        "- 🤖 **pipeline** - Interface simples para usar modelos\n",
        "- 🔢 **torch** - Framework de deep learning (operações tensoriais)\n",
        "- 📊 **numpy** - Operações matemáticas e arrays\n"
      ]
    },
    {
      "cell_type": "code",
      "execution_count": null,
      "metadata": {},
      "outputs": [],
      "source": [
        "# Importações necessárias\n",
        "from transformers import (\n",
        "    LogitsProcessor,           # Classe base para processar logits\n",
        "    pipeline,                  # Interface simples para modelos\n",
        "    AutoTokenizer,             # Conversor texto ↔ números\n",
        "    AutoModelForCausalLM       # Modelo de linguagem\n",
        ")\n",
        "import torch                   # Framework de deep learning\n",
        "import numpy as np             # Operações numéricas\n",
        "from typing import Dict        # Type hints para dicionários\n",
        "\n",
        "print(\"✅ Todas as importações carregadas com sucesso!\")\n"
      ]
    },
    {
      "cell_type": "raw",
      "metadata": {
        "vscode": {
          "languageId": "raw"
        }
      },
      "source": [
        "## 🔄 Carregando Modelo e Tokenizer\n",
        "\n",
        "Agora vamos carregar o modelo e o tokenizer do Hugging Face.\n",
        "\n",
        "**O que é cada componente:**\n",
        "- 🔤 **Tokenizer** - Converte texto em números que o modelo entende\n",
        "  - Exemplo: \"Olá mundo\" → [123, 456, 789]\n",
        "- 🧠 **Model** - O modelo de linguagem que gera texto\n",
        "  - Recebe números → Calcula probabilidades → Gera próxima palavra\n",
        "\n",
        "**Por que carregar separadamente?**\n",
        "- Controle mais fino sobre cada componente\n",
        "- Permite usar tokenizer personalizado se necessário\n",
        "- Facilita debugging e análise\n",
        "\n",
        "⚠️ **Atenção:** Este processo pode demorar alguns minutos na primeira vez (modelo tem ~8GB)!\n"
      ]
    },
    {
      "cell_type": "code",
      "execution_count": null,
      "metadata": {},
      "outputs": [],
      "source": [
        "# Carregando modelo e tokenizer\n",
        "print(\"📥 Carregando tokenizer...\")\n",
        "tokenizer = AutoTokenizer.from_pretrained(MODEL_ID)\n",
        "\n",
        "print(\"📥 Carregando modelo (pode demorar alguns minutos)...\")\n",
        "model = AutoModelForCausalLM.from_pretrained(\n",
        "    MODEL_ID,\n",
        "    torch_dtype=torch.float16,    # Usa menos memória\n",
        "    device_map=\"auto\"             # Distribui automaticamente na GPU/CPU\n",
        ")\n",
        "\n",
        "print(\"✅ Modelo e tokenizer carregados com sucesso!\")\n",
        "print(f\"📊 Vocabulário do tokenizer: {len(tokenizer.vocab):,} tokens\")\n"
      ]
    },
    {
      "cell_type": "raw",
      "metadata": {
        "vscode": {
          "languageId": "raw"
        }
      },
      "source": [
        "## 🎛️ Criando nosso LogitsProcessor\n",
        "\n",
        "Agora vamos criar nossa própria classe para controlar a geração de texto!\n",
        "\n",
        "**Como funciona um LogitsProcessor:**\n",
        "1. 📊 **Recebe logits** - Probabilidades brutas do modelo para cada palavra\n",
        "2. 🔧 **Modifica probabilidades** - Aplica nossas regras\n",
        "3. 📤 **Retorna logits modificados** - Para o modelo escolher a próxima palavra\n",
        "\n",
        "**Nossa implementação vai permitir:**\n",
        "- 📝 **Definir regras** - Dicionário com palavras e suas probabilidades\n",
        "- ➕ **Incentivar palavras** - Valores positivos aumentam chance\n",
        "- ➖ **Bloquear palavras** - Valores negativos ou zero diminuem chance\n",
        "- 🔄 **Aplicar em tempo real** - Durante a geração do texto\n",
        "\n",
        "**Exemplo de regras:**\n",
        "```python\n",
        "regras = {\n",
        "    \"excelente\": 2.0,    # Incentiva\n",
        "    \"ruim\": -5.0,        # Desincentiva\n",
        "    \"terrível\": 0        # Bloqueia completamente\n",
        "}\n",
        "```\n"
      ]
    },
    {
      "cell_type": "code",
      "execution_count": null,
      "metadata": {},
      "outputs": [],
      "source": [
        "# Classe para controlar a geração de texto\n",
        "class CustomLogitsProcessor(LogitsProcessor):\n",
        "    \"\"\"\n",
        "    Processor personalizado para aplicar regras na geração de texto\n",
        "    \"\"\"\n",
        "    \n",
        "    def __init__(self, tokenizer, regras_dict: Dict[str, float]):\n",
        "        \"\"\"\n",
        "        Inicializa o processor com regras de masking\n",
        "        \n",
        "        Args:\n",
        "            tokenizer: Tokenizer do modelo\n",
        "            regras_dict: Dicionário {palavra: peso}\n",
        "                       - peso > 0: incentiva a palavra\n",
        "                       - peso < 0: desincentiva a palavra  \n",
        "                       - peso = 0: bloqueia completamente\n",
        "        \"\"\"\n",
        "        self.tokenizer = tokenizer\n",
        "        self.token_adjustments = {}\n",
        "        \n",
        "        # Converte palavras em token IDs\n",
        "        for palavra, peso in regras_dict.items():\n",
        "            # Encode da palavra (pode gerar múltiplos tokens)\n",
        "            token_ids = tokenizer.encode(palavra, add_special_tokens=False)\n",
        "            \n",
        "            for token_id in token_ids:\n",
        "                # Se peso = 0, bloqueia completamente (probabilidade -infinito)\n",
        "                if peso == 0:\n",
        "                    self.token_adjustments[token_id] = float('-inf')\n",
        "                else:\n",
        "                    self.token_adjustments[token_id] = peso\n",
        "        \n",
        "        print(f\"✅ Processor criado com {len(self.token_adjustments)} tokens ajustados\")\n",
        "    \n",
        "    def __call__(self, input_ids: torch.LongTensor, scores: torch.FloatTensor) -> torch.FloatTensor:\n",
        "        \"\"\"\n",
        "        Aplica as regras nos logits durante a geração\n",
        "        \n",
        "        Args:\n",
        "            input_ids: Tokens já gerados\n",
        "            scores: Probabilidades para próximo token\n",
        "            \n",
        "        Returns:\n",
        "            scores modificados com nossas regras\n",
        "        \"\"\"\n",
        "        # Clona os scores para não modificar o original\n",
        "        modified_scores = scores.clone()\n",
        "        \n",
        "        # Aplica ajustes para cada token que temos regras\n",
        "        for token_id, adjustment in self.token_adjustments.items():\n",
        "            if adjustment == float('-inf'):\n",
        "                # Bloqueia completamente\n",
        "                modified_scores[:, token_id] = float('-inf')\n",
        "            else:\n",
        "                # Adiciona peso (positivo ou negativo)\n",
        "                modified_scores[:, token_id] += adjustment\n",
        "        \n",
        "        return modified_scores\n"
      ]
    },
    {
      "cell_type": "raw",
      "metadata": {
        "vscode": {
          "languageId": "raw"
        }
      },
      "source": [
        "## 🔒 Exemplo 1: Bloqueando Palavras Indesejadas\n",
        "\n",
        "Vamos testar nosso processor bloqueando palavras que demonstram impotência em atendimento ao cliente.\n",
        "\n",
        "**Cenário:** Atendimento ao cliente com pedido atrasado\n",
        "- ❌ **Bloquear:** \"desculpe\", \"infelizmente\", \"lamento\"\n",
        "- ✅ **Resultado esperado:** Respostas mais assertivas e focadas em soluções\n",
        "\n",
        "**Por que isso é útil?**\n",
        "- Melhora experiência do cliente (menos frustrante)\n",
        "- Força o modelo a focar em soluções\n",
        "- Mantém profissionalismo sem demonstrar impotência\n",
        "\n",
        "**Como funciona:**\n",
        "1. Definimos palavras com peso = 0 (bloqueio total)\n",
        "2. O processor marca esses tokens como probabilidade -∞\n",
        "3. O modelo nunca escolhe essas palavras\n"
      ]
    },
    {
      "cell_type": "code",
      "execution_count": null,
      "metadata": {},
      "outputs": [],
      "source": [
        "# Exemplo 1: Bloqueando palavras de impotência\n",
        "print(\"🔒 Exemplo: Bloqueando palavras que demonstram impotência\")\n",
        "\n",
        "# Definir regras - peso 0 = bloqueio total\n",
        "regras_bloqueio = {\n",
        "    \"desculpe\": 0,\n",
        "    \"infelizmente\": 0, \n",
        "    \"lamento\": 0,\n",
        "    \"perdão\": 0\n",
        "}\n",
        "\n",
        "# Criar processor com essas regras\n",
        "processor_bloqueio = CustomLogitsProcessor(tokenizer, regras_bloqueio)\n",
        "\n",
        "# Criar pipeline de geração\n",
        "pipe = pipeline(\n",
        "    \"text-generation\",\n",
        "    model=model,\n",
        "    tokenizer=tokenizer,\n",
        "    device_map=\"auto\"\n",
        ")\n",
        "\n",
        "# Prompt de atendimento ao cliente\n",
        "prompt_atendimento = \"\"\"<|system|>\n",
        "Você é um atendente de e-commerce focado em soluções. Seja direto e profissional.\n",
        "\n",
        "Situação: Pedido #12345 está atrasado. Motivo: alto volume de entregas na região. Nova previsão: 2 dias úteis.\n",
        "<|user|>\n",
        "Meu pedido está atrasado e preciso dele urgente! Não aceito mais desculpas, quero uma solução!\n",
        "<|assistant|>\"\"\"\n",
        "\n",
        "# Gerar resposta COM bloqueio\n",
        "print(\"\\\\n📝 Gerando resposta com palavras bloqueadas...\")\n",
        "response_blocked = pipe(\n",
        "    prompt_atendimento,\n",
        "    max_new_tokens=100,\n",
        "    do_sample=True,\n",
        "    temperature=0.7,\n",
        "    logits_processor=[processor_bloqueio],\n",
        "    pad_token_id=tokenizer.eos_token_id\n",
        ")\n",
        "\n",
        "print(\"\\\\n✅ Resposta gerada:\")\n",
        "print(response_blocked[0][\"generated_text\"].split(\"<|assistant|>\")[-1].strip())\n"
      ]
    },
    {
      "cell_type": "raw",
      "metadata": {
        "vscode": {
          "languageId": "raw"
        }
      },
      "source": [
        "## 🔄 Comparação: Com vs Sem Bloqueio\n",
        "\n",
        "Vamos gerar a mesma resposta SEM o bloqueio para ver a diferença!\n",
        "\n",
        "**Objetivo:** Demonstrar o impacto do Logits Masking comparando:\n",
        "- 🚫 **Sem controle** - Modelo livre para usar qualquer palavra\n",
        "- ✅ **Com controle** - Palavras indesejadas bloqueadas\n",
        "\n",
        "Esta comparação mostra como pequenos ajustes podem ter grande impacto na experiência do usuário.\n"
      ]
    },
    {
      "cell_type": "code",
      "execution_count": null,
      "metadata": {},
      "outputs": [],
      "source": [
        "# Comparação: Gerando SEM bloqueio\n",
        "print(\"🚫 Gerando resposta SEM bloqueio para comparação...\")\n",
        "\n",
        "response_normal = pipe(\n",
        "    prompt_atendimento,\n",
        "    max_new_tokens=100,\n",
        "    do_sample=True,\n",
        "    temperature=0.7,\n",
        "    # Sem logits_processor!\n",
        "    pad_token_id=tokenizer.eos_token_id\n",
        ")\n",
        "\n",
        "print(\"\\\\n📊 COMPARAÇÃO DE RESULTADOS:\")\n",
        "print(\"=\" * 60)\n",
        "\n",
        "print(\"\\\\n🚫 SEM BLOQUEIO (modelo livre):\")\n",
        "print(response_normal[0][\"generated_text\"].split(\"<|assistant|>\")[-1].strip())\n",
        "\n",
        "print(\"\\\\n✅ COM BLOQUEIO (palavras controladas):\")  \n",
        "print(response_blocked[0][\"generated_text\"].split(\"<|assistant|>\")[-1].strip())\n",
        "\n",
        "print(\"\\\\n\" + \"=\" * 60)\n",
        "print(\"💡 Observe a diferença no tom e nas palavras utilizadas!\")\n"
      ]
    },
    {
      "cell_type": "raw",
      "metadata": {
        "vscode": {
          "languageId": "raw"
        }
      },
      "source": [
        "## 🎯 Exemplo 2: Incentivando Marcas Específicas\n",
        "\n",
        "Agora vamos usar Logits Masking para influenciar recomendações de produtos!\n",
        "\n",
        "**Cenário:** E-commerce de tênis esportivos\n",
        "- ✅ **Incentivar:** New Balance (+3), Asics (+2) - parcerias comerciais\n",
        "- ❌ **Desincenttivar:** Nike (-2), Adidas (-2) - menor margem de lucro\n",
        "- 🎯 **Objetivo:** Direcionar vendas para produtos mais lucrativos\n",
        "\n",
        "**Como funciona o incentivo:**\n",
        "- **Peso positivo** → Aumenta probabilidade da palavra aparecer\n",
        "- **Peso negativo** → Diminui probabilidade (mas não bloqueia)\n",
        "- **Magnitude** → Quanto maior o número, maior o efeito\n",
        "\n",
        "**Aplicações reais:**\n",
        "- 💰 Produtos com maior margem\n",
        "- 📦 Produtos em estoque\n",
        "- 🤝 Marcas parceiras\n",
        "- 🔥 Produtos em promoção\n"
      ]
    },
    {
      "cell_type": "code",
      "execution_count": null,
      "metadata": {},
      "outputs": [],
      "source": [
        "# Exemplo 2: Incentivando marcas específicas\n",
        "print(\"🎯 Exemplo: Influenciando recomendações de tênis\")\n",
        "\n",
        "# Regras para influenciar marcas\n",
        "regras_marcas = {\n",
        "    \"New Balance\": 3.0,    # Forte incentivo (parceria comercial)\n",
        "    \"Asics\": 2.0,          # Incentivo moderado (boa margem)\n",
        "    \"Nike\": -2.0,          # Desincentivo (menor margem)\n",
        "    \"Adidas\": -2.0,        # Desincentivo (menor margem)\n",
        "    \"Puma\": 0.5,           # Leve incentivo (neutro)\n",
        "}\n",
        "\n",
        "# Criar processor para marcas\n",
        "processor_marcas = CustomLogitsProcessor(tokenizer, regras_marcas)\n",
        "\n",
        "# Prompt de recomendação de tênis\n",
        "prompt_tenis = \"\"\"<|system|>\n",
        "Você é um assistente especializado em tênis esportivos. Recomende os melhores produtos do nosso catálogo considerando qualidade e custo-benefício.\n",
        "\n",
        "Catálogo disponível: Nike, Adidas, Asics, New Balance, Puma, Under Armour, Reebok, Mizuno, Saucony, Brooks\n",
        "<|user|>\n",
        "Preciso de um tênis de corrida para longas distâncias. Quais são suas melhores recomendações?\n",
        "<|assistant|>\"\"\"\n",
        "\n",
        "# Gerar recomendação COM influência de marcas\n",
        "print(\"\\\\n📝 Gerando recomendação com marcas influenciadas...\")\n",
        "response_influenced = pipe(\n",
        "    prompt_tenis,\n",
        "    max_new_tokens=150,\n",
        "    do_sample=True,\n",
        "    temperature=0.8,\n",
        "    logits_processor=[processor_marcas],\n",
        "    pad_token_id=tokenizer.eos_token_id\n",
        ")\n",
        "\n",
        "print(\"\\\\n✅ Recomendação com marcas influenciadas:\")\n",
        "print(response_influenced[0][\"generated_text\"].split(\"<|assistant|>\")[-1].strip())\n"
      ]
    },
    {
      "cell_type": "raw",
      "metadata": {
        "vscode": {
          "languageId": "raw"
        }
      },
      "source": [
        "## 📊 Comparação Final: Influência vs Natural\n",
        "\n",
        "Vamos ver como o modelo recomenda naturalmente vs com nossa influência!\n"
      ]
    },
    {
      "cell_type": "code",
      "execution_count": null,
      "metadata": {},
      "outputs": [],
      "source": [
        "# Comparação: Recomendação natural vs influenciada\n",
        "print(\"🔄 Gerando recomendação NATURAL para comparação...\")\n",
        "\n",
        "response_natural = pipe(\n",
        "    prompt_tenis,\n",
        "    max_new_tokens=150,\n",
        "    do_sample=True,\n",
        "    temperature=0.8,\n",
        "    # Sem logits_processor!\n",
        "    pad_token_id=tokenizer.eos_token_id\n",
        ")\n",
        "\n",
        "print(\"\\\\n📊 COMPARAÇÃO DE RECOMENDAÇÕES:\")\n",
        "print(\"=\" * 80)\n",
        "\n",
        "print(\"\\\\n🌿 RECOMENDAÇÃO NATURAL (sem influência):\")\n",
        "print(response_natural[0][\"generated_text\"].split(\"<|assistant|>\")[-1].strip())\n",
        "\n",
        "print(\"\\\\n🎯 RECOMENDAÇÃO INFLUENCIADA (com Logits Masking):\")\n",
        "print(response_influenced[0][\"generated_text\"].split(\"<|assistant|>\")[-1].strip())\n",
        "\n",
        "print(\"\\\\n\" + \"=\" * 80)\n",
        "print(\"💡 Análise:\")\n",
        "print(\"📈 Marcas incentivadas (New Balance, Asics) aparecem mais?\")\n",
        "print(\"📉 Marcas desincentivadas (Nike, Adidas) aparecem menos?\")\n",
        "print(\"🎯 O modelo segue nossa estratégia comercial?\")\n"
      ]
    },
    {
      "cell_type": "raw",
      "metadata": {
        "vscode": {
          "languageId": "raw"
        }
      },
      "source": [
        "## 🎓 Conclusões e Próximos Passos\n",
        "\n",
        "### ✅ O que aprendemos:\n",
        "\n",
        "1. **Logits Masking é poderoso** - Pequenos ajustes = Grande impacto\n",
        "2. **Controle granular** - Podemos incentivar/bloquear palavras específicas  \n",
        "3. **Aplicação prática** - Útil para compliance, vendas, moderação\n",
        "4. **Fácil implementação** - Poucas linhas de código para grandes mudanças\n",
        "\n",
        "### 🔧 Técnicas demonstradas:\n",
        "\n",
        "- ❌ **Bloqueio total** (peso = 0) - Elimina palavras indesejadas\n",
        "- ➕ **Incentivo positivo** (peso > 0) - Aumenta probabilidade\n",
        "- ➖ **Desincentivo** (peso < 0) - Diminui probabilidade\n",
        "- 🔄 **Aplicação em tempo real** - Durante a geração\n",
        "\n",
        "### 🚀 Próximos passos para experimentar:\n",
        "\n",
        "1. **Teste diferentes pesos** - Como -10, -1, 0.5, 5, 10 afetam os resultados?\n",
        "2. **Múltiplas regras** - Combine bloqueio + incentivo no mesmo processor\n",
        "3. **Contexto dinâmico** - Regras que mudam baseado no input do usuário\n",
        "4. **Medição de impacto** - Analise quantitativamente as mudanças\n",
        "5. **Casos de uso específicos** - Adapte para seu domínio (finanças, saúde, etc.)\n",
        "\n",
        "### 💡 Ideias para expandir:\n",
        "\n",
        "- **Sentiment control** - Forçar tom positivo/neutro/profissional\n",
        "- **Product steering** - Direcionar para produtos específicos\n",
        "- **Compliance enforcement** - Garantir respostas seguem regulamentações\n",
        "- **A/B testing** - Comparar diferentes estratégias de masking\n"
      ]
    },
    {
      "cell_type": "code",
      "execution_count": null,
      "metadata": {},
      "outputs": [],
      "source": [
        "# 🧪 Área de Experimentação\n",
        "print(\"🧪 Use esta célula para experimentar com suas próprias regras!\")\n",
        "\n",
        "# Exemplo: Crie suas próprias regras aqui\n",
        "minhas_regras = {\n",
        "    # Adicione suas palavras e pesos aqui\n",
        "    # \"palavra\": peso\n",
        "    # Exemplos:\n",
        "    # \"excelente\": 2.0,    # Incentiva\n",
        "    # \"ruim\": -3.0,        # Desincentiva  \n",
        "    # \"terrível\": 0,       # Bloqueia\n",
        "}\n",
        "\n",
        "# Seu prompt personalizado aqui\n",
        "meu_prompt = \"\"\"<|system|>\n",
        "Escreva seu prompt aqui...\n",
        "<|user|>\n",
        "Sua pergunta aqui...\n",
        "<|assistant|>\"\"\"\n",
        "\n",
        "# Descomente para testar:\n",
        "\"\"\"\n",
        "if minhas_regras:  # Só executa se você definir regras\n",
        "    meu_processor = CustomLogitsProcessor(tokenizer, minhas_regras)\n",
        "    \n",
        "    resultado = pipe(\n",
        "        meu_prompt,\n",
        "        max_new_tokens=100,\n",
        "        do_sample=True,\n",
        "        temperature=0.7,\n",
        "        logits_processor=[meu_processor],\n",
        "        pad_token_id=tokenizer.eos_token_id\n",
        "    )\n",
        "    \n",
        "    print(\"Resultado do seu experimento:\")\n",
        "    print(resultado[0][\"generated_text\"].split(\"<|assistant|>\")[-1].strip())\n",
        "\"\"\"\n",
        "\n",
        "print(\"💡 Dica: Modifique as regras acima e descomente o código para testar!\")\n"
      ]
    },
    {
      "cell_type": "markdown",
      "metadata": {
        "colab_type": "text",
        "id": "view-in-github"
      },
      "source": [
        "<a href=\"https://colab.research.google.com/github/nelsonfrugeri-tech/playground-generative-ai/blob/master/logits_masking.ipynb\" target=\"_parent\"><img src=\"https://colab.research.google.com/assets/colab-badge.svg\" alt=\"Open In Colab\"/></a>"
      ]
    }
  ],
  "metadata": {
    "accelerator": "GPU",
    "colab": {
      "authorship_tag": "ABX9TyMgIZyny7itpscklW8jjdzN",
      "gpuType": "A100",
      "include_colab_link": true,
      "machine_shape": "hm",
      "provenance": [],
      "toc_visible": true
    },
    "kernelspec": {
      "display_name": ".venv",
      "language": "python",
      "name": "python3"
    },
    "language_info": {
      "codemirror_mode": {
        "name": "ipython",
        "version": 3
      },
      "file_extension": ".py",
      "mimetype": "text/x-python",
      "name": "python",
      "nbconvert_exporter": "python",
      "pygments_lexer": "ipython3",
      "version": "3.9.6"
    }
  },
  "nbformat": 4,
  "nbformat_minor": 0
}
